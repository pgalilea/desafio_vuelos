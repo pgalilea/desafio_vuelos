{
  "cells": [
    {
      "cell_type": "code",
      "execution_count": null,
      "metadata": {
        "id": "sYhKo8Oz46oP"
      },
      "outputs": [],
      "source": [
        "!pip install -r ../requirements.txt"
      ]
    },
    {
      "cell_type": "code",
      "execution_count": null,
      "metadata": {
        "id": "m3Kr7zXu46oT"
      },
      "outputs": [],
      "source": [
        "from collections import Counter\n",
        "import hashlib\n",
        "from datetime import datetime\n",
        "\n",
        "import numpy as np\n",
        "import pandas as pd\n",
        "from sklearn.model_selection import train_test_split\n",
        "from sklearn.preprocessing import LabelEncoder\n",
        "from sklearn.metrics import confusion_matrix, classification_report\n",
        "from sklearn.model_selection import GridSearchCV\n",
        "import xgboost as xgb\n",
        "from joblib import dump\n",
        "\n",
        "from ds_helpers import temporada_alta, dif_min, get_periodo_dia"
      ]
    },
    {
      "attachments": {},
      "cell_type": "markdown",
      "metadata": {},
      "source": [
        "## Manejo y transformación del dataset"
      ]
    },
    {
      "cell_type": "code",
      "execution_count": null,
      "metadata": {
        "id": "tHCYZd2S46oV"
      },
      "outputs": [],
      "source": [
        "df = pd.read_csv('../datasets/dataset_SCL.csv')\n",
        "df = df[:-1]\n",
        "df"
      ]
    },
    {
      "cell_type": "code",
      "execution_count": null,
      "metadata": {
        "id": "gW1NlZ4D46oW"
      },
      "outputs": [],
      "source": [
        "df['temporada_alta'] = df['Fecha-I'].apply(temporada_alta)\n",
        "df['dif_min'] = df.apply(dif_min, axis = 1)\n",
        "df['atraso_15'] = np.where(df['dif_min'] > 15, 1, 0)\n",
        "df['periodo_dia'] = df['Fecha-I'].apply(get_periodo_dia)"
      ]
    },
    {
      "attachments": {},
      "cell_type": "markdown",
      "metadata": {},
      "source": [
        "Dejar solo algunas columnas, de acuerdo al criterio del experto humano."
      ]
    },
    {
      "cell_type": "code",
      "execution_count": null,
      "metadata": {
        "id": "L-ivIUCo46oX"
      },
      "outputs": [],
      "source": [
        "data = df[['OPERA', 'MES', 'TIPOVUELO', 'SIGLAORI', 'SIGLADES', 'DIANOM','temporada_alta', 'atraso_15']]\n",
        "label = data['atraso_15']"
      ]
    },
    {
      "cell_type": "code",
      "execution_count": null,
      "metadata": {
        "id": "hFMKb7H346oY"
      },
      "outputs": [],
      "source": [
        "data"
      ]
    },
    {
      "attachments": {},
      "cell_type": "markdown",
      "metadata": {},
      "source": [
        "Transformar los datos originales en una represetanción numérica simple que consiste en mapear cada valor de la variable categórica a un valor entero."
      ]
    },
    {
      "cell_type": "code",
      "execution_count": null,
      "metadata": {
        "id": "S_HtN0-n46oZ"
      },
      "outputs": [],
      "source": [
        "features = data.assign(\n",
        "    OPERA = LabelEncoder().fit_transform(data['OPERA']),\n",
        "    MES = data.MES,\n",
        "    TIPOVUELO = LabelEncoder().fit_transform(data['TIPOVUELO']),\n",
        "    SIGLAORI = LabelEncoder().fit_transform(data['SIGLAORI']),\n",
        "    SIGLADES = LabelEncoder().fit_transform(data['SIGLADES']),\n",
        "    DIANOM = data['DIANOM'].map( {'Lunes':1, 'Martes':2, 'Miercoles':3, 'Jueves':4, 'Viernes':5, 'Sabado':6, 'Domingo':7}),\n",
        "    TEMPALTA = data.temporada_alta\n",
        ").drop(columns=['atraso_15', 'temporada_alta'])\n",
        "\n",
        "features"
      ]
    },
    {
      "attachments": {},
      "cell_type": "markdown",
      "metadata": {},
      "source": [
        "Separar el dataset en train y test, con *0,67* para training  y *0,33* para testing. Se sigue una estrategia `stratified`, es decir, se mantiene la proporción de la variable objetivo (`label`) en train y test. "
      ]
    },
    {
      "cell_type": "code",
      "execution_count": null,
      "metadata": {
        "id": "X7dDuICF46oa"
      },
      "outputs": [],
      "source": [
        "x_train, x_test, y_train, y_test = train_test_split(features, label, test_size = 0.33, stratify=label, random_state = 1)"
      ]
    },
    {
      "attachments": {},
      "cell_type": "markdown",
      "metadata": {},
      "source": [
        "Verificaciones varias para asegurarse que los 2 conjuntos tienen las propiedades requeridas"
      ]
    },
    {
      "cell_type": "code",
      "execution_count": null,
      "metadata": {
        "id": "rGJZBaUQgTsv"
      },
      "outputs": [],
      "source": [
        "assert y_train.size + y_test.size == label.size\n",
        "assert x_train.shape[0] + x_test.shape[0] == features.shape[0]"
      ]
    },
    {
      "cell_type": "code",
      "execution_count": null,
      "metadata": {
        "id": "zL0ZKVkT46ob"
      },
      "outputs": [],
      "source": [
        "print(y_train.size)\n",
        "print(y_test.size)\n",
        "# this 2-value arrays must be close\n",
        "print(y_train.value_counts('%').values)\n",
        "print(y_test.value_counts('%').values)\n",
        "np.allclose(y_train.value_counts('%').values, y_test.value_counts('%').values, atol=0.01)"
      ]
    },
    {
      "attachments": {},
      "cell_type": "markdown",
      "metadata": {},
      "source": [
        "## Entrenar modelo"
      ]
    },
    {
      "attachments": {},
      "cell_type": "markdown",
      "metadata": {},
      "source": [
        "Se entrena un modelo de predicción utilizando el algoritmo de aprendizaje *XGBoost*. Se elegió este método porque en la literatura ha demostrado obtener los mejores resultados en datos tabulares. Debido a que es un dataset desbalanceado (80% sin atraso y 20% con atraso), se utiliza el parámetro `scale_pos_weight` propio de algoritmo, para ponderar la distinta proporción de las clases.\n",
        "Para identificar los parámetros que entregan el mejor desempeño, se utilizó el algoritmo de `GridSearch` o búsqueda exhaustiva sobre un conjunto de parámetros definidos por el experto humano. En cada iteración de parámetros se utilizó una validación cruzada (CV) de 3 *folds* con estrategia *stratified*"
      ]
    },
    {
      "cell_type": "code",
      "execution_count": null,
      "metadata": {
        "id": "ZNsUSTKE46oc"
      },
      "outputs": [],
      "source": [
        "counter = Counter(y_train)\n",
        "cls_weight = counter[0] / counter[1]\n",
        "\n",
        "modelxgb = xgb.XGBClassifier(scale_pos_weight=cls_weight, random_state=None)\n",
        "parameters = {\n",
        "    'learning_rate': [0.01, 0.1, 0.5],\n",
        "    'n_estimators': [10, 50, 100],\n",
        "    'subsample': [0.1, 0.5, 0.9],\n",
        "    'max_depth': [6, 20, 50, 100] \n",
        "}\n",
        "\n",
        "modelxgb_GridCV = GridSearchCV(\n",
        "    modelxgb,\n",
        "    param_grid = parameters,\n",
        "    cv = 3,\n",
        "    n_jobs=-1,\n",
        "    verbose=1).fit(x_train, y_train)"
      ]
    },
    {
      "attachments": {},
      "cell_type": "markdown",
      "metadata": {},
      "source": [
        "Para medir la capacidad que tiene el modelo para generalizar, se utiliza un conjunto de datos de validación que el modelo no ha \"visto\"."
      ]
    },
    {
      "cell_type": "code",
      "execution_count": null,
      "metadata": {
        "id": "WpIZQleq46oe"
      },
      "outputs": [],
      "source": [
        "y_pred_xgb_grid = modelxgb_GridCV.predict(x_test)\n",
        "print(confusion_matrix(y_test, y_pred_xgb_grid))\n",
        "print(classification_report(y_test, y_pred_xgb_grid))"
      ]
    },
    {
      "cell_type": "code",
      "execution_count": null,
      "metadata": {
        "id": "7hAELGYb9krA"
      },
      "outputs": [],
      "source": [
        "print(modelxgb_GridCV.best_params_)\n",
        "print(modelxgb_GridCV.best_estimator_)\n",
        "\n",
        "phash = hashlib.sha1(str(modelxgb_GridCV.best_estimator_.get_params()).encode('utf-8')).hexdigest() \n",
        "mname = f\"{datetime.utcnow().strftime('%Y%m%d')}_{phash[:7]}_xgb_m1.joblib\"\n",
        "\n",
        "dump(modelxgb_GridCV.best_estimator_, f'../models/{mname}')"
      ]
    },
    {
      "attachments": {},
      "cell_type": "markdown",
      "metadata": {},
      "source": [
        "## Trabajo futuro"
      ]
    },
    {
      "attachments": {},
      "cell_type": "markdown",
      "metadata": {},
      "source": [
        "- Incorporar nuevas features que aporten al modelo\n",
        "- Evaluar otra representación de los datos (e.g., one hot encoding) junto a otro algoritmo de aprendizaje (e.g., NN)"
      ]
    }
  ],
  "metadata": {
    "colab": {
      "provenance": []
    },
    "kernelspec": {
      "display_name": "Python 3 (ipykernel)",
      "language": "python",
      "name": "python3"
    },
    "language_info": {
      "codemirror_mode": {
        "name": "ipython",
        "version": 3
      },
      "file_extension": ".py",
      "mimetype": "text/x-python",
      "name": "python",
      "nbconvert_exporter": "python",
      "pygments_lexer": "ipython3",
      "version": "3.9.16"
    }
  },
  "nbformat": 4,
  "nbformat_minor": 0
}
